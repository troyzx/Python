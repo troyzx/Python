{
 "cells": [
  {
   "cell_type": "code",
   "execution_count": 20,
   "metadata": {},
   "outputs": [],
   "source": [
    "import os"
   ]
  },
  {
   "cell_type": "code",
   "execution_count": 59,
   "metadata": {},
   "outputs": [],
   "source": [
    "class sql():\n",
    "    \n",
    "    def __init__(self, filename):\n",
    "        try:\n",
    "            fh = open(filename + '.txt' , \"r\")\n",
    "        except IOError:\n",
    "            print (\"没有找到文件或读取文件失败\")\n",
    "            flag = input(\"是否创建该文件（原文件可能会被覆盖）[y/n]\")\n",
    "            if(flag=='y'):\n",
    "                fh = open(filename + '.txt', 'w')\n",
    "                print('成功创建文件' + filename + '.txt')\n",
    "            else:\n",
    "                return\n",
    "        else:\n",
    "            self.data=fh.readlines()\n",
    "            self.data_sorted = sorted(self.data)\n",
    "            print(\"初始化成功\")\n",
    "        fh.close()\n",
    "            \n",
    "    def readfile(self, filename):\n",
    "        with open(filename + '.txt', 'r') as f:\n",
    "            self.data=f.readlines()\n",
    "            \n",
    "    def printdata(self, sort = False):\n",
    "        \n",
    "        if self.data==[]:\n",
    "            print(\"Empty!\")\n",
    "            return\n",
    "        \n",
    "        print(\"姓名\\t年龄\\t性别\\t班级\\t学号\")\n",
    "        if(sort==True):\n",
    "            for line in self.data_sorted:\n",
    "                print(line)\n",
    "        else:\n",
    "            for line in self.data:\n",
    "                print(line)\n",
    "    \n",
    "    def inputdata(self):\n",
    "        while(True):\n",
    "            temp = input('请输入学生姓名 年龄 性别(M/F) 班级 学号：' + '\\n' + '(输入exit退出)')\n",
    "            if(temp == 'exit'):\n",
    "                break\n",
    "            else:\n",
    "                data = temp.split()\n",
    "                string=''\n",
    "                for datum in data:\n",
    "                    string = string + datum + '\\t'\n",
    "                string = string + '\\n'\n",
    "                self.data.append(string)\n",
    "        self.data_sorted = sorted(self.data)\n",
    "        \n",
    "    def static(self):\n",
    "        male = 0\n",
    "        female = 0\n",
    "        for line in self.data:\n",
    "            temp = line.split()\n",
    "            if(temp[2]=='M'):\n",
    "                male = male+1\n",
    "            elif(temp[2]=='F'):\n",
    "                female = female+1\n",
    "        print('男生人数：%3d' %male)\n",
    "        print('女生人数：%3d' %female)\n",
    "        print(\"总人数：\" + \"%d\" %len(self.data))  \n",
    "        \n",
    "    def writefile(self, filename, sort = False):\n",
    "        string=''\n",
    "        if(sort==False):\n",
    "            for line in self.data:\n",
    "                string += line\n",
    "        else:\n",
    "            filename=filename + '_sorted'\n",
    "            for line in self.data_sorted:\n",
    "                string += line\n",
    "        with open(filename + '.txt', 'w') as f:\n",
    "            f.write(string)\n",
    "        print('文件已保存为\"' + filename +'.txt\"')"
   ]
  },
  {
   "cell_type": "code",
   "execution_count": 60,
   "metadata": {},
   "outputs": [
    {
     "name": "stdout",
     "output_type": "stream",
     "text": [
      "初始化成功\n",
      "姓名\t年龄\t性别\t班级\t学号\n",
      "Troy\t20\tM\t3\t4324\t\n",
      "\n",
      "Mona\t19\tF\t3\t3435\t\n",
      "\n",
      "Cata\t18\tF\t2\t2311\t\n",
      "\n",
      "Ciri\t19\tF\t1\t3214\t\n",
      "\n",
      "Dave\t19\tM\t2\t4234\t\n",
      "\n"
     ]
    },
    {
     "name": "stdin",
     "output_type": "stream",
     "text": [
      "请输入学生姓名 年龄 性别(M/F) 班级 学号：\n",
      "(输入exit退出) exit\n"
     ]
    },
    {
     "name": "stdout",
     "output_type": "stream",
     "text": [
      "文件已保存为\"student_sorted.txt\"\n"
     ]
    }
   ],
   "source": [
    "s = sql('student')\n",
    "#打印数据\n",
    "s.printdata()\n",
    "#输入数据\n",
    "s.inputdata()\n",
    "#排序并写入\n",
    "s.writefile('student', sort=True)"
   ]
  },
  {
   "cell_type": "code",
   "execution_count": 61,
   "metadata": {},
   "outputs": [
    {
     "name": "stdout",
     "output_type": "stream",
     "text": [
      "姓名\t年龄\t性别\t班级\t学号\n",
      "Troy\t20\tM\t3\t4324\t\n",
      "\n",
      "Mona\t19\tF\t3\t3435\t\n",
      "\n",
      "Cata\t18\tF\t2\t2311\t\n",
      "\n",
      "Ciri\t19\tF\t1\t3214\t\n",
      "\n",
      "Dave\t19\tM\t2\t4234\t\n",
      "\n"
     ]
    }
   ],
   "source": [
    "s.printdata()"
   ]
  },
  {
   "cell_type": "code",
   "execution_count": 62,
   "metadata": {},
   "outputs": [
    {
     "name": "stdout",
     "output_type": "stream",
     "text": [
      "姓名\t年龄\t性别\t班级\t学号\n",
      "Cata\t18\tF\t2\t2311\t\n",
      "\n",
      "Ciri\t19\tF\t1\t3214\t\n",
      "\n",
      "Dave\t19\tM\t2\t4234\t\n",
      "\n",
      "Mona\t19\tF\t3\t3435\t\n",
      "\n",
      "Troy\t20\tM\t3\t4324\t\n",
      "\n"
     ]
    }
   ],
   "source": [
    "s.printdata(sort=True)"
   ]
  },
  {
   "cell_type": "code",
   "execution_count": 57,
   "metadata": {},
   "outputs": [
    {
     "name": "stdout",
     "output_type": "stream",
     "text": [
      "男生人数：  2\n",
      "女生人数：  3\n",
      "总人数：5\n"
     ]
    }
   ],
   "source": [
    "s.static()"
   ]
  },
  {
   "cell_type": "code",
   "execution_count": 58,
   "metadata": {},
   "outputs": [
    {
     "name": "stdout",
     "output_type": "stream",
     "text": [
      "没有找到文件或读取文件失败\n"
     ]
    },
    {
     "name": "stdin",
     "output_type": "stream",
     "text": [
      "是否创建该文件（原文件可能会被覆盖）[y/n] n\n"
     ]
    }
   ],
   "source": [
    "a1 = sql('student1')"
   ]
  },
  {
   "cell_type": "code",
   "execution_count": null,
   "metadata": {},
   "outputs": [],
   "source": []
  }
 ],
 "metadata": {
  "kernelspec": {
   "display_name": "Python 3",
   "language": "python",
   "name": "python3"
  },
  "language_info": {
   "codemirror_mode": {
    "name": "ipython",
    "version": 3
   },
   "file_extension": ".py",
   "mimetype": "text/x-python",
   "name": "python",
   "nbconvert_exporter": "python",
   "pygments_lexer": "ipython3",
   "version": "3.8.0"
  }
 },
 "nbformat": 4,
 "nbformat_minor": 4
}
