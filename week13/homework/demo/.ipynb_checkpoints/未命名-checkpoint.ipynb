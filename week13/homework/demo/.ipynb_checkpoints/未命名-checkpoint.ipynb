{
 "cells": [
  {
   "cell_type": "code",
   "execution_count": 4,
   "metadata": {},
   "outputs": [],
   "source": [
    "import numpy as np\n",
    "from matplotlib import pyplot as plt"
   ]
  },
  {
   "cell_type": "code",
   "execution_count": 44,
   "metadata": {},
   "outputs": [],
   "source": [
    "class drunk():\n",
    "    \n",
    "    def __init__(self, pos0=0):\n",
    "        self.pos = pos0\n",
    "        \n",
    "    def walk(self,  step=1):\n",
    "        temp = np.random.randint(10)\n",
    "        flag = (-1)**temp\n",
    "        self.pos += flag*step"
   ]
  },
  {
   "cell_type": "code",
   "execution_count": 145,
   "metadata": {},
   "outputs": [],
   "source": [
    "def F(pos):\n",
    "    r = (pos[0]**2+pos[1]**2)**0.5\n",
    "    if r==0:\n",
    "        r = 0.1\n",
    "    if pos[0]!=0:\n",
    "        theta = np.arctan(pos[1]/pos[0])\n",
    "    elif pos[1]>0:\n",
    "        theta = np.pi/2\n",
    "    elif pso[1]<0:\n",
    "        theta = np.pi/2*3\n",
    "    return np.array([1/r*np.cos(theta), 1/r*np.sin(theta)])\n",
    "\n",
    "\n",
    "class singledot():\n",
    "\n",
    "    def __init__(self, pos0=[0,0]):\n",
    "        self.pos = pos0\n",
    "        \n",
    "    def walk(self):\n",
    "        step = np.random.random()\n",
    "        theta = np.random.randint(360)\n",
    "        dx = F(self.pos)[0]*np.cos(theta)*step\n",
    "        dy = F(self.pos)[1]*np.sin(theta)*step\n",
    "        self.pos += np.array([dx, dy])\n",
    "        print(F(self.pos))"
   ]
  },
  {
   "cell_type": "code",
   "execution_count": 150,
   "metadata": {},
   "outputs": [],
   "source": [
    "s = []\n",
    "for i in range(100):\n",
    "    for j in range(100):\n",
    "        s[i,j] = singledot([i,j])"
   ]
  },
  {
   "cell_type": "code",
   "execution_count": 156,
   "metadata": {},
   "outputs": [
    {
     "name": "stdout",
     "output_type": "stream",
     "text": [
      "[0.51098453 1.00195148]\n"
     ]
    }
   ],
   "source": [
    "s.walk()"
   ]
  },
  {
   "cell_type": "code",
   "execution_count": 157,
   "metadata": {},
   "outputs": [
    {
     "data": {
      "text/plain": [
       "array([0.40393652, 0.79204902])"
      ]
     },
     "execution_count": 157,
     "metadata": {},
     "output_type": "execute_result"
    }
   ],
   "source": [
    "s.pos"
   ]
  },
  {
   "cell_type": "code",
   "execution_count": 158,
   "metadata": {},
   "outputs": [
    {
     "data": {
      "text/plain": [
       "array([0.51098453, 1.00195148])"
      ]
     },
     "execution_count": 158,
     "metadata": {},
     "output_type": "execute_result"
    }
   ],
   "source": [
    "F(s.pos)"
   ]
  },
  {
   "cell_type": "code",
   "execution_count": 160,
   "metadata": {},
   "outputs": [
    {
     "data": {
      "image/png": "[encoded data removed]",
      "text/plain": [
       "<Figure size 432x288 with 1 Axes>"
      ]
     },
     "metadata": {
      "needs_background": "light"
     },
     "output_type": "display_data"
    }
   ],
   "source": [
    "plt.scatter(s.pos[0],s.pos[1])\n",
    "plt.xlim(-10,10)\n",
    "plt.ylim(-10,10)\n",
    "plt.show()"
   ]
  },
  {
   "cell_type": "code",
   "execution_count": null,
   "metadata": {},
   "outputs": [],
   "source": []
  }
 ],
 "metadata": {
  "kernelspec": {
   "display_name": "Python 3",
   "language": "python",
   "name": "python3"
  },
  "language_info": {
   "codemirror_mode": {
    "name": "ipython",
    "version": 3
   },
   "file_extension": ".py",
   "mimetype": "text/x-python",
   "name": "python",
   "nbconvert_exporter": "python",
   "pygments_lexer": "ipython3",
   "version": "3.8.0"
  }
 },
 "nbformat": 4,
 "nbformat_minor": 4
}
