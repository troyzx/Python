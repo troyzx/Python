{
 "cells": [
  {
   "cell_type": "code",
   "execution_count": 54,
   "metadata": {},
   "outputs": [
    {
     "name": "stderr",
     "output_type": "stream",
     "text": [
      "100%|██████████| 10000/10000 [00:08<00:00, 1191.90it/s]"
     ]
    },
    {
     "name": "stdout",
     "output_type": "stream",
     "text": [
      "8.602898120880127\n"
     ]
    },
    {
     "name": "stderr",
     "output_type": "stream",
     "text": [
      "\n"
     ]
    }
   ],
   "source": [
    "import numpy as np\n",
    "from matplotlib import pyplot as plt\n",
    "from tqdm import tqdm\n",
    "import time\n",
    "\n",
    "time.perf_counter()\n",
    "start = time.time()\n",
    "\n",
    "n_samples = 10000\n",
    "n_step = 10000\n",
    "#在（0，0）生成黑洞\n",
    "#在以（0，0）为圆心，\n",
    "\n",
    "\n",
    "r = np.random.uniform(-n_samples**0.5,n_samples**0.5,n_samples)\n",
    "theta = np.random.uniform(0,2*np.pi,n_samples)\n",
    "x = r*np.cos(theta)\n",
    "y = r*np.sin(theta)\n",
    "vx = np.random.normal(size = n_samples)\n",
    "vy = np.random.normal(size = n_samples)\n",
    "\n",
    "x_rand = []\n",
    "y_rand = []\n",
    "for i in tqdm(range(n_step)):\n",
    "    x_rand.append(np.random.random(n_samples)*np.cos(theta))\n",
    "    y_rand.append(np.random.random(n_samples)*np.sin(theta))\n",
    "\n",
    "\n",
    "\n",
    "end = time.time()\n",
    "elapse = end - start\n",
    "print(elapse)"
   ]
  },
  {
   "cell_type": "code",
   "execution_count": 55,
   "metadata": {},
   "outputs": [
    {
     "name": "stderr",
     "output_type": "stream",
     "text": [
      "100%|██████████| 10000/10000 [00:05<00:00, 1811.61it/s]"
     ]
    },
    {
     "name": "stdout",
     "output_type": "stream",
     "text": [
      "5.539401054382324\n"
     ]
    },
    {
     "name": "stderr",
     "output_type": "stream",
     "text": [
      "\n"
     ]
    }
   ],
   "source": [
    "time.perf_counter()\n",
    "start = time.time()\n",
    "\n",
    "for step in tqdm(range(n_step)):\n",
    "    r2 = x**2 + y**2\n",
    "    F = 10 / r2**1.5\n",
    "    ax = -F * x\n",
    "    ay = -F * y\n",
    "    vx += ax\n",
    "    vy += ay\n",
    "    x += x_rand[step] + vx\n",
    "    y += y_rand[step] + vy\n",
    "    \n",
    "end = time.time()\n",
    "elapse = end - start\n",
    "print(elapse)"
   ]
  },
  {
   "cell_type": "code",
   "execution_count": 50,
   "metadata": {},
   "outputs": [
    {
     "data": {
      "image/png": "[encoded data removed]",
      "text/plain": [
       "<Figure size 720x720 with 3 Axes>"
      ]
     },
     "metadata": {
      "needs_background": "light"
     },
     "output_type": "display_data"
    }
   ],
   "source": [
    "plt.figure(figsize=(10,10))\n",
    "grid = plt.GridSpec(4, 4, wspace = 0.5, hspace = 0.5)\n",
    "\n",
    "main_ax = plt.subplot(grid[1:4,0:3])\n",
    "plt.plot(x,y,'bo', markersize=3, alpha=0.2)\n",
    "plt.xlim(-n_samples*5,n_samples*5)\n",
    "plt.ylim(-n_samples*5,n_samples*5)\n",
    "\n",
    "y_hist = plt.subplot(grid[1:4,3], xticklabels=[], sharey=main_ax)\n",
    "plt.hist(y,100,range=(-40000,40000),orientation='horizontal', color='blue')\n",
    "\n",
    "x_hist = plt.subplot(grid[0,0:3], xticklabels=[], sharex=main_ax)\n",
    "plt.hist(x,100,range=(-40000,40000),orientation='vertical', color='blue')\n",
    "\n",
    "plt.show()"
   ]
  },
  {
   "cell_type": "code",
   "execution_count": null,
   "metadata": {},
   "outputs": [],
   "source": []
  }
 ],
 "metadata": {
  "kernelspec": {
   "display_name": "Python 3",
   "language": "python",
   "name": "python3"
  },
  "language_info": {
   "codemirror_mode": {
    "name": "ipython",
    "version": 3
   },
   "file_extension": ".py",
   "mimetype": "text/x-python",
   "name": "python",
   "nbconvert_exporter": "python",
   "pygments_lexer": "ipython3",
   "version": "3.8.0"
  }
 },
 "nbformat": 4,
 "nbformat_minor": 4
}
