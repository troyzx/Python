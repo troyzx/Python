{
 "cells": [
  {
   "cell_type": "code",
   "execution_count": 6,
   "metadata": {},
   "outputs": [
    {
     "name": "stderr",
     "output_type": "stream",
     "text": [
      "  2%|▏         | 202/10000 [00:00<00:09, 1004.23it/s]"
     ]
    },
    {
     "name": "stdout",
     "output_type": "stream",
     "text": [
      "Genarating data>>>\n"
     ]
    },
    {
     "name": "stderr",
     "output_type": "stream",
     "text": [
      "100%|██████████| 10000/10000 [00:10<00:00, 990.23it/s]\n",
      "  0%|          | 1/10000 [00:00<32:21,  5.15it/s]"
     ]
    },
    {
     "name": "stdout",
     "output_type": "stream",
     "text": [
      "Caculating>>>\n"
     ]
    },
    {
     "name": "stderr",
     "output_type": "stream",
     "text": [
      "100%|██████████| 10000/10000 [00:49<00:00, 201.27it/s]\n"
     ]
    },
    {
     "name": "stdout",
     "output_type": "stream",
     "text": [
      "total time: 60.30503511428833\n",
      "Complete !\n"
     ]
    }
   ],
   "source": [
    "import numpy as np\n",
    "from matplotlib import pyplot as plt\n",
    "from tqdm import tqdm\n",
    "import time\n",
    "import saveGif\n",
    "\n",
    "time.perf_counter()\n",
    "start = time.time()\n",
    "\n",
    "# set parameters\n",
    "n_samples = 10000\n",
    "n_step = 10000\n",
    "# 在（0，0）生成黑洞\n",
    "# 在以（0，0）为圆心，r=sqrt(n_samples)的圆盘内生成均匀的点\n",
    "\n",
    "# genarte data\n",
    "\n",
    "# initial condition\n",
    "r = np.random.uniform(0, 100, n_samples)\n",
    "theta = np.random.uniform(0, 2*np.pi, n_samples)\n",
    "x = r*np.cos(theta)\n",
    "y = r*np.sin(theta)\n",
    "vx = np.random.normal(size=n_samples)*5\n",
    "vy = np.random.normal(size=n_samples)*5\n",
    "\n",
    "# random walk\n",
    "x_rand = []\n",
    "y_rand = []\n",
    "print(\"Genarating data>>>\")\n",
    "for i in tqdm(range(n_step)):\n",
    "    x_rand.append(np.random.random(n_samples) *\n",
    "                  np.cos(np.random.uniform(0, 2*np.pi, n_samples)))\n",
    "    y_rand.append(np.random.random(n_samples) *\n",
    "                  np.sin(np.random.uniform(0, 2*np.pi, n_samples)))\n",
    "\n",
    "# caculate\n",
    "print(\"Caculating>>>\")\n",
    "n = 0\n",
    "for step in tqdm(range(n_step)):\n",
    "    r2 = x**2 + y**2\n",
    "    F = 100000 / r2**1.5\n",
    "    ax = -F * x\n",
    "    ay = -F * y\n",
    "    vx += ax\n",
    "    vy += ay\n",
    "    x += x_rand[step] + vx\n",
    "    y += y_rand[step] + vy\n",
    "\n",
    "    if (step % 50 == 0):\n",
    "        plt.figure(figsize=(10,10))\n",
    "        plt.plot([0],[0], 'ro', markersize=5)\n",
    "        plt.plot(x, y, 'bo', markersize=3, alpha=0.2)\n",
    "        plt.xlim(-n_samples , n_samples )\n",
    "        plt.ylim(-n_samples , n_samples )\n",
    "        plt.savefig('./fig/%d.png' % n)\n",
    "        plt.cla()\n",
    "        plt.close()\n",
    "        n = n+1\n",
    "\n",
    "\n",
    "end = time.time()\n",
    "elapse = end - start\n",
    "print('total time: ' + str(elapse))\n",
    "saveGif.main(n)"
   ]
  },
  {
   "cell_type": "code",
   "execution_count": 5,
   "metadata": {},
   "outputs": [
    {
     "name": "stdout",
     "output_type": "stream",
     "text": [
      "Complete !\n"
     ]
    }
   ],
   "source": [
    "#Save gif\n",
    "import imageio\n",
    "\n",
    "\n",
    "def create_gif(image_list, gif_name):\n",
    "\n",
    "    frames = []\n",
    "    for image_name in image_list:\n",
    "        frames.append(imageio.imread(image_name))\n",
    "    # Save them as frames into a gif\n",
    "    imageio.mimsave(gif_name, frames, 'GIF', duration=0.005)\n",
    "    print(\"Complete !\")\n",
    "    return\n",
    "\n",
    "\n",
    "def main(n):\n",
    "    image_list = []\n",
    "    for i in range(n):\n",
    "        image_list.append('./fig/'+str(i) + '.png')\n",
    "    gif_name = 'created_gif'\n",
    "    create_gif(image_list, gif_name)\n",
    "\n",
    "\n",
    "if __name__ == \"__main__\":\n",
    "    main(n)"
   ]
  },
  {
   "cell_type": "code",
   "execution_count": null,
   "metadata": {},
   "outputs": [],
   "source": [
    "plt.figure(figsize=(10, 10))\n",
    "grid = plt.GridSpec(4, 4, wspace=0.5, hspace=0.5)\n",
    "\n",
    "main_ax = plt.subplot(grid[1:4, 0:3])\n",
    "plt.plot(x, y, 'bo', markersize=3, alpha=0.2)\n",
    "plt.xlim(-n_samples*5, n_samples*5)\n",
    "plt.ylim(-n_samples*5, n_samples*5)\n",
    "\n",
    "y_hist = plt.subplot(grid[1:4, 3], xticklabels=[], sharey=main_ax)\n",
    "plt.hist(y, 30, range=(-40000, 40000), orientation='horizontal', color='blue')\n",
    "\n",
    "x_hist = plt.subplot(grid[0, 0:3], xticklabels=[], sharex=main_ax)\n",
    "plt.hist(x, 30, range=(-40000, 40000), orientation='vertical', color='blue')\n",
    "\n",
    "plt.show()\n",
    "\n"
   ]
  }
 ],
 "metadata": {
  "kernelspec": {
   "display_name": "Python 3",
   "language": "python",
   "name": "python3"
  },
  "language_info": {
   "codemirror_mode": {
    "name": "ipython",
    "version": 3
   },
   "file_extension": ".py",
   "mimetype": "text/x-python",
   "name": "python",
   "nbconvert_exporter": "python",
   "pygments_lexer": "ipython3",
   "version": "3.8.0"
  }
 },
 "nbformat": 4,
 "nbformat_minor": 4
}
